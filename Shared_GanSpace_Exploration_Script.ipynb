{
  "nbformat": 4,
  "nbformat_minor": 0,
  "metadata": {
    "colab": {
      "name": "Shared GanSpace Exploration Script.ipynb",
      "provenance": [],
      "collapsed_sections": [],
      "machine_shape": "hm",
      "include_colab_link": true
    },
    "kernelspec": {
      "name": "python3",
      "display_name": "Python 3"
    },
    "accelerator": "GPU",
    "widgets": {
      "application/vnd.jupyter.widget-state+json": {
        "20f7fcee62d44367a7c7b7ddd6ef2227": {
          "model_module": "@jupyter-widgets/controls",
          "model_name": "VBoxModel",
          "state": {
            "_view_name": "VBoxView",
            "_dom_classes": [],
            "_model_name": "VBoxModel",
            "_view_module": "@jupyter-widgets/controls",
            "_model_module_version": "1.5.0",
            "_view_count": null,
            "_view_module_version": "1.5.0",
            "box_style": "",
            "layout": "IPY_MODEL_5db6d1bf4a624fad8ca1219ed5eacc25",
            "_model_module": "@jupyter-widgets/controls",
            "children": [
              "IPY_MODEL_72c60b8a60fe4d038a672fe881de437e"
            ]
          }
        },
        "5db6d1bf4a624fad8ca1219ed5eacc25": {
          "model_module": "@jupyter-widgets/base",
          "model_name": "LayoutModel",
          "state": {
            "_view_name": "LayoutView",
            "grid_template_rows": null,
            "right": null,
            "justify_content": null,
            "_view_module": "@jupyter-widgets/base",
            "overflow": null,
            "_model_module_version": "1.2.0",
            "_view_count": null,
            "flex_flow": null,
            "width": null,
            "min_width": null,
            "border": null,
            "align_items": null,
            "bottom": null,
            "_model_module": "@jupyter-widgets/base",
            "top": null,
            "grid_column": null,
            "overflow_y": null,
            "overflow_x": null,
            "grid_auto_flow": null,
            "grid_area": null,
            "grid_template_columns": null,
            "flex": null,
            "_model_name": "LayoutModel",
            "justify_items": null,
            "grid_row": null,
            "max_height": null,
            "align_content": null,
            "visibility": null,
            "align_self": null,
            "height": null,
            "min_height": null,
            "padding": null,
            "grid_auto_rows": null,
            "grid_gap": null,
            "max_width": null,
            "order": null,
            "_view_module_version": "1.2.0",
            "grid_template_areas": null,
            "object_position": null,
            "object_fit": null,
            "grid_auto_columns": null,
            "margin": null,
            "display": null,
            "left": null
          }
        },
        "72c60b8a60fe4d038a672fe881de437e": {
          "model_module": "@jupyter-widgets/controls",
          "model_name": "HBoxModel",
          "state": {
            "_view_name": "HBoxView",
            "_dom_classes": [],
            "_model_name": "HBoxModel",
            "_view_module": "@jupyter-widgets/controls",
            "_model_module_version": "1.5.0",
            "_view_count": null,
            "_view_module_version": "1.5.0",
            "box_style": "",
            "layout": "IPY_MODEL_6a68407d8adf4462a744452de24bdbfc",
            "_model_module": "@jupyter-widgets/controls",
            "children": [
              "IPY_MODEL_a506bc50085e464da9253db22a5fc1a8",
              "IPY_MODEL_fc8ff0fa9a6b4e82a04d8e7119bf74e5",
              "IPY_MODEL_98e941c0242f47cfb51abe7961580bc8",
              "IPY_MODEL_1473977fd2134585944f7743de5959c0",
              "IPY_MODEL_b9b8cd03c8b7450eaf8e07b845bf34ee"
            ]
          }
        },
        "6a68407d8adf4462a744452de24bdbfc": {
          "model_module": "@jupyter-widgets/base",
          "model_name": "LayoutModel",
          "state": {
            "_view_name": "LayoutView",
            "grid_template_rows": null,
            "right": null,
            "justify_content": null,
            "_view_module": "@jupyter-widgets/base",
            "overflow": null,
            "_model_module_version": "1.2.0",
            "_view_count": null,
            "flex_flow": null,
            "width": null,
            "min_width": null,
            "border": null,
            "align_items": null,
            "bottom": null,
            "_model_module": "@jupyter-widgets/base",
            "top": null,
            "grid_column": null,
            "overflow_y": null,
            "overflow_x": null,
            "grid_auto_flow": null,
            "grid_area": null,
            "grid_template_columns": null,
            "flex": null,
            "_model_name": "LayoutModel",
            "justify_items": null,
            "grid_row": null,
            "max_height": null,
            "align_content": null,
            "visibility": null,
            "align_self": null,
            "height": null,
            "min_height": null,
            "padding": null,
            "grid_auto_rows": null,
            "grid_gap": null,
            "max_width": null,
            "order": null,
            "_view_module_version": "1.2.0",
            "grid_template_areas": null,
            "object_position": null,
            "object_fit": null,
            "grid_auto_columns": null,
            "margin": null,
            "display": null,
            "left": null
          }
        },
        "a506bc50085e464da9253db22a5fc1a8": {
          "model_module": "@jupyter-widgets/controls",
          "model_name": "IntSliderModel",
          "state": {
            "_view_name": "IntSliderView",
            "style": "IPY_MODEL_abfa4f9e503d47e1a5997da5ece21513",
            "_dom_classes": [],
            "description": "Seed: ",
            "step": 1,
            "_model_name": "IntSliderModel",
            "orientation": "horizontal",
            "max": 100000,
            "_view_module": "@jupyter-widgets/controls",
            "_model_module_version": "1.5.0",
            "value": 18943,
            "_view_count": null,
            "disabled": false,
            "_view_module_version": "1.5.0",
            "min": 0,
            "continuous_update": false,
            "readout_format": "d",
            "description_tooltip": null,
            "readout": true,
            "_model_module": "@jupyter-widgets/controls",
            "layout": "IPY_MODEL_cdd4be859bc84bd5b702d1368d369abd"
          }
        },
        "fc8ff0fa9a6b4e82a04d8e7119bf74e5": {
          "model_module": "@jupyter-widgets/controls",
          "model_name": "FloatSliderModel",
          "state": {
            "_view_name": "FloatSliderView",
            "style": "IPY_MODEL_1807ae90339a45e9a47df58f41f55b61",
            "_dom_classes": [],
            "description": "Truncation: ",
            "step": 0.1,
            "_model_name": "FloatSliderModel",
            "orientation": "horizontal",
            "max": 2,
            "_view_module": "@jupyter-widgets/controls",
            "_model_module_version": "1.5.0",
            "value": 0.7,
            "_view_count": null,
            "disabled": false,
            "_view_module_version": "1.5.0",
            "min": 0,
            "continuous_update": false,
            "readout_format": ".2f",
            "description_tooltip": null,
            "readout": true,
            "_model_module": "@jupyter-widgets/controls",
            "layout": "IPY_MODEL_8c34c9221fcf4429a831d5411550e278"
          }
        },
        "98e941c0242f47cfb51abe7961580bc8": {
          "model_module": "@jupyter-widgets/controls",
          "model_name": "FloatSliderModel",
          "state": {
            "_view_name": "FloatSliderView",
            "style": "IPY_MODEL_8e5128a7c64847ad8b3c51629ec3df92",
            "_dom_classes": [],
            "description": "Distance: ",
            "step": 0.1,
            "_model_name": "FloatSliderModel",
            "orientation": "horizontal",
            "max": 10,
            "_view_module": "@jupyter-widgets/controls",
            "_model_module_version": "1.5.0",
            "value": 0,
            "_view_count": null,
            "disabled": false,
            "_view_module_version": "1.5.0",
            "min": -10,
            "continuous_update": false,
            "readout_format": ".2f",
            "description_tooltip": null,
            "readout": true,
            "_model_module": "@jupyter-widgets/controls",
            "layout": "IPY_MODEL_70cf1a3a31de4507be6e1a9f09612f50"
          }
        },
        "1473977fd2134585944f7743de5959c0": {
          "model_module": "@jupyter-widgets/controls",
          "model_name": "FloatSliderModel",
          "state": {
            "_view_name": "FloatSliderView",
            "style": "IPY_MODEL_99ab15f8af6d4f15876e746d21792a96",
            "_dom_classes": [],
            "description": "Scale: ",
            "step": 0.05,
            "_model_name": "FloatSliderModel",
            "orientation": "horizontal",
            "max": 5,
            "_view_module": "@jupyter-widgets/controls",
            "_model_module_version": "1.5.0",
            "value": 1,
            "_view_count": null,
            "disabled": false,
            "_view_module_version": "1.5.0",
            "min": 0,
            "continuous_update": false,
            "readout_format": ".2f",
            "description_tooltip": null,
            "readout": true,
            "_model_module": "@jupyter-widgets/controls",
            "layout": "IPY_MODEL_ba3384f6685941fda1d14a0ab0d1b2f4"
          }
        },
        "b9b8cd03c8b7450eaf8e07b845bf34ee": {
          "model_module": "@jupyter-widgets/controls",
          "model_name": "TextModel",
          "state": {
            "_view_name": "TextView",
            "style": "IPY_MODEL_672a4bce61384454a83afce47f3735fe",
            "_dom_classes": [],
            "description": "Name component here",
            "_model_name": "TextModel",
            "placeholder": "​",
            "_view_module": "@jupyter-widgets/controls",
            "_model_module_version": "1.5.0",
            "value": "",
            "_view_count": null,
            "disabled": false,
            "_view_module_version": "1.5.0",
            "continuous_update": true,
            "description_tooltip": null,
            "_model_module": "@jupyter-widgets/controls",
            "layout": "IPY_MODEL_ab4bed0514924dfe819d4f039af5dc21"
          }
        },
        "abfa4f9e503d47e1a5997da5ece21513": {
          "model_module": "@jupyter-widgets/controls",
          "model_name": "SliderStyleModel",
          "state": {
            "_view_name": "StyleView",
            "handle_color": null,
            "_model_name": "SliderStyleModel",
            "description_width": "",
            "_view_module": "@jupyter-widgets/base",
            "_model_module_version": "1.5.0",
            "_view_count": null,
            "_view_module_version": "1.2.0",
            "_model_module": "@jupyter-widgets/controls"
          }
        },
        "cdd4be859bc84bd5b702d1368d369abd": {
          "model_module": "@jupyter-widgets/base",
          "model_name": "LayoutModel",
          "state": {
            "_view_name": "LayoutView",
            "grid_template_rows": null,
            "right": null,
            "justify_content": null,
            "_view_module": "@jupyter-widgets/base",
            "overflow": null,
            "_model_module_version": "1.2.0",
            "_view_count": null,
            "flex_flow": null,
            "width": null,
            "min_width": null,
            "border": null,
            "align_items": null,
            "bottom": null,
            "_model_module": "@jupyter-widgets/base",
            "top": null,
            "grid_column": null,
            "overflow_y": null,
            "overflow_x": null,
            "grid_auto_flow": null,
            "grid_area": null,
            "grid_template_columns": null,
            "flex": null,
            "_model_name": "LayoutModel",
            "justify_items": null,
            "grid_row": null,
            "max_height": null,
            "align_content": null,
            "visibility": null,
            "align_self": null,
            "height": null,
            "min_height": null,
            "padding": null,
            "grid_auto_rows": null,
            "grid_gap": null,
            "max_width": null,
            "order": null,
            "_view_module_version": "1.2.0",
            "grid_template_areas": null,
            "object_position": null,
            "object_fit": null,
            "grid_auto_columns": null,
            "margin": null,
            "display": null,
            "left": null
          }
        },
        "1807ae90339a45e9a47df58f41f55b61": {
          "model_module": "@jupyter-widgets/controls",
          "model_name": "SliderStyleModel",
          "state": {
            "_view_name": "StyleView",
            "handle_color": null,
            "_model_name": "SliderStyleModel",
            "description_width": "",
            "_view_module": "@jupyter-widgets/base",
            "_model_module_version": "1.5.0",
            "_view_count": null,
            "_view_module_version": "1.2.0",
            "_model_module": "@jupyter-widgets/controls"
          }
        },
        "8c34c9221fcf4429a831d5411550e278": {
          "model_module": "@jupyter-widgets/base",
          "model_name": "LayoutModel",
          "state": {
            "_view_name": "LayoutView",
            "grid_template_rows": null,
            "right": null,
            "justify_content": null,
            "_view_module": "@jupyter-widgets/base",
            "overflow": null,
            "_model_module_version": "1.2.0",
            "_view_count": null,
            "flex_flow": null,
            "width": null,
            "min_width": null,
            "border": null,
            "align_items": null,
            "bottom": null,
            "_model_module": "@jupyter-widgets/base",
            "top": null,
            "grid_column": null,
            "overflow_y": null,
            "overflow_x": null,
            "grid_auto_flow": null,
            "grid_area": null,
            "grid_template_columns": null,
            "flex": null,
            "_model_name": "LayoutModel",
            "justify_items": null,
            "grid_row": null,
            "max_height": null,
            "align_content": null,
            "visibility": null,
            "align_self": null,
            "height": null,
            "min_height": null,
            "padding": null,
            "grid_auto_rows": null,
            "grid_gap": null,
            "max_width": null,
            "order": null,
            "_view_module_version": "1.2.0",
            "grid_template_areas": null,
            "object_position": null,
            "object_fit": null,
            "grid_auto_columns": null,
            "margin": null,
            "display": null,
            "left": null
          }
        },
        "8e5128a7c64847ad8b3c51629ec3df92": {
          "model_module": "@jupyter-widgets/controls",
          "model_name": "SliderStyleModel",
          "state": {
            "_view_name": "StyleView",
            "handle_color": null,
            "_model_name": "SliderStyleModel",
            "description_width": "initial",
            "_view_module": "@jupyter-widgets/base",
            "_model_module_version": "1.5.0",
            "_view_count": null,
            "_view_module_version": "1.2.0",
            "_model_module": "@jupyter-widgets/controls"
          }
        },
        "70cf1a3a31de4507be6e1a9f09612f50": {
          "model_module": "@jupyter-widgets/base",
          "model_name": "LayoutModel",
          "state": {
            "_view_name": "LayoutView",
            "grid_template_rows": null,
            "right": null,
            "justify_content": null,
            "_view_module": "@jupyter-widgets/base",
            "overflow": null,
            "_model_module_version": "1.2.0",
            "_view_count": null,
            "flex_flow": null,
            "width": null,
            "min_width": null,
            "border": null,
            "align_items": null,
            "bottom": null,
            "_model_module": "@jupyter-widgets/base",
            "top": null,
            "grid_column": null,
            "overflow_y": null,
            "overflow_x": null,
            "grid_auto_flow": null,
            "grid_area": null,
            "grid_template_columns": null,
            "flex": null,
            "_model_name": "LayoutModel",
            "justify_items": null,
            "grid_row": null,
            "max_height": null,
            "align_content": null,
            "visibility": null,
            "align_self": null,
            "height": null,
            "min_height": null,
            "padding": null,
            "grid_auto_rows": null,
            "grid_gap": null,
            "max_width": null,
            "order": null,
            "_view_module_version": "1.2.0",
            "grid_template_areas": null,
            "object_position": null,
            "object_fit": null,
            "grid_auto_columns": null,
            "margin": null,
            "display": null,
            "left": null
          }
        },
        "99ab15f8af6d4f15876e746d21792a96": {
          "model_module": "@jupyter-widgets/controls",
          "model_name": "SliderStyleModel",
          "state": {
            "_view_name": "StyleView",
            "handle_color": null,
            "_model_name": "SliderStyleModel",
            "description_width": "",
            "_view_module": "@jupyter-widgets/base",
            "_model_module_version": "1.5.0",
            "_view_count": null,
            "_view_module_version": "1.2.0",
            "_model_module": "@jupyter-widgets/controls"
          }
        },
        "ba3384f6685941fda1d14a0ab0d1b2f4": {
          "model_module": "@jupyter-widgets/base",
          "model_name": "LayoutModel",
          "state": {
            "_view_name": "LayoutView",
            "grid_template_rows": null,
            "right": null,
            "justify_content": null,
            "_view_module": "@jupyter-widgets/base",
            "overflow": null,
            "_model_module_version": "1.2.0",
            "_view_count": null,
            "flex_flow": null,
            "width": null,
            "min_width": null,
            "border": null,
            "align_items": null,
            "bottom": null,
            "_model_module": "@jupyter-widgets/base",
            "top": null,
            "grid_column": null,
            "overflow_y": null,
            "overflow_x": null,
            "grid_auto_flow": null,
            "grid_area": null,
            "grid_template_columns": null,
            "flex": null,
            "_model_name": "LayoutModel",
            "justify_items": null,
            "grid_row": null,
            "max_height": null,
            "align_content": null,
            "visibility": null,
            "align_self": null,
            "height": null,
            "min_height": null,
            "padding": null,
            "grid_auto_rows": null,
            "grid_gap": null,
            "max_width": null,
            "order": null,
            "_view_module_version": "1.2.0",
            "grid_template_areas": null,
            "object_position": null,
            "object_fit": null,
            "grid_auto_columns": null,
            "margin": null,
            "display": null,
            "left": null
          }
        },
        "672a4bce61384454a83afce47f3735fe": {
          "model_module": "@jupyter-widgets/controls",
          "model_name": "DescriptionStyleModel",
          "state": {
            "_view_name": "StyleView",
            "_model_name": "DescriptionStyleModel",
            "description_width": "initial",
            "_view_module": "@jupyter-widgets/base",
            "_model_module_version": "1.5.0",
            "_view_count": null,
            "_view_module_version": "1.2.0",
            "_model_module": "@jupyter-widgets/controls"
          }
        },
        "ab4bed0514924dfe819d4f039af5dc21": {
          "model_module": "@jupyter-widgets/base",
          "model_name": "LayoutModel",
          "state": {
            "_view_name": "LayoutView",
            "grid_template_rows": null,
            "right": null,
            "justify_content": null,
            "_view_module": "@jupyter-widgets/base",
            "overflow": null,
            "_model_module_version": "1.2.0",
            "_view_count": null,
            "flex_flow": null,
            "width": null,
            "min_width": null,
            "border": null,
            "align_items": null,
            "bottom": null,
            "_model_module": "@jupyter-widgets/base",
            "top": null,
            "grid_column": null,
            "overflow_y": null,
            "overflow_x": null,
            "grid_auto_flow": null,
            "grid_area": null,
            "grid_template_columns": null,
            "flex": null,
            "_model_name": "LayoutModel",
            "justify_items": null,
            "grid_row": null,
            "max_height": null,
            "align_content": null,
            "visibility": null,
            "align_self": null,
            "height": null,
            "min_height": null,
            "padding": null,
            "grid_auto_rows": null,
            "grid_gap": null,
            "max_width": null,
            "order": null,
            "_view_module_version": "1.2.0",
            "grid_template_areas": null,
            "object_position": null,
            "object_fit": null,
            "grid_auto_columns": null,
            "margin": null,
            "display": null,
            "left": null
          }
        },
        "6b48fa1a2b994fe4981719328611e704": {
          "model_module": "@jupyter-widgets/output",
          "model_name": "OutputModel",
          "state": {
            "_view_name": "OutputView",
            "msg_id": "",
            "_dom_classes": [],
            "_model_name": "OutputModel",
            "outputs": [
              {
                "output_type": "display_data",
                "metadata": {
                  "tags": []
                },
                "image/png": "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\n",
                "text/plain": "<PIL.Image.Image image mode=RGB size=400x400 at 0x7F418AE77B90>"
              }
            ],
            "_view_module": "@jupyter-widgets/output",
            "_model_module_version": "1.0.0",
            "_view_count": null,
            "_view_module_version": "1.0.0",
            "layout": "IPY_MODEL_05623127b11b43a6b9084e8b295d2c73",
            "_model_module": "@jupyter-widgets/output"
          }
        },
        "05623127b11b43a6b9084e8b295d2c73": {
          "model_module": "@jupyter-widgets/base",
          "model_name": "LayoutModel",
          "state": {
            "_view_name": "LayoutView",
            "grid_template_rows": null,
            "right": null,
            "justify_content": null,
            "_view_module": "@jupyter-widgets/base",
            "overflow": null,
            "_model_module_version": "1.2.0",
            "_view_count": null,
            "flex_flow": null,
            "width": null,
            "min_width": null,
            "border": null,
            "align_items": null,
            "bottom": null,
            "_model_module": "@jupyter-widgets/base",
            "top": null,
            "grid_column": null,
            "overflow_y": null,
            "overflow_x": null,
            "grid_auto_flow": null,
            "grid_area": null,
            "grid_template_columns": null,
            "flex": null,
            "_model_name": "LayoutModel",
            "justify_items": null,
            "grid_row": null,
            "max_height": null,
            "align_content": null,
            "visibility": null,
            "align_self": null,
            "height": null,
            "min_height": null,
            "padding": null,
            "grid_auto_rows": null,
            "grid_gap": null,
            "max_width": null,
            "order": null,
            "_view_module_version": "1.2.0",
            "grid_template_areas": null,
            "object_position": null,
            "object_fit": null,
            "grid_auto_columns": null,
            "margin": null,
            "display": null,
            "left": null
          }
        },
        "84646295a6a040cd935bd95bc8750da4": {
          "model_module": "@jupyter-widgets/controls",
          "model_name": "VBoxModel",
          "state": {
            "_view_name": "VBoxView",
            "_dom_classes": [],
            "_model_name": "VBoxModel",
            "_view_module": "@jupyter-widgets/controls",
            "_model_module_version": "1.5.0",
            "_view_count": null,
            "_view_module_version": "1.5.0",
            "box_style": "",
            "layout": "IPY_MODEL_d2dd3b8dc5214e9986d37e489369c989",
            "_model_module": "@jupyter-widgets/controls",
            "children": [
              "IPY_MODEL_4dc912bbee794f10848607bd2323991d",
              "IPY_MODEL_317f56a9fb2746139f2bb6f8a8a5e2b8"
            ]
          }
        },
        "d2dd3b8dc5214e9986d37e489369c989": {
          "model_module": "@jupyter-widgets/base",
          "model_name": "LayoutModel",
          "state": {
            "_view_name": "LayoutView",
            "grid_template_rows": null,
            "right": null,
            "justify_content": null,
            "_view_module": "@jupyter-widgets/base",
            "overflow": null,
            "_model_module_version": "1.2.0",
            "_view_count": null,
            "flex_flow": null,
            "width": null,
            "min_width": null,
            "border": null,
            "align_items": null,
            "bottom": null,
            "_model_module": "@jupyter-widgets/base",
            "top": null,
            "grid_column": null,
            "overflow_y": null,
            "overflow_x": null,
            "grid_auto_flow": null,
            "grid_area": null,
            "grid_template_columns": null,
            "flex": null,
            "_model_name": "LayoutModel",
            "justify_items": null,
            "grid_row": null,
            "max_height": null,
            "align_content": null,
            "visibility": null,
            "align_self": null,
            "height": null,
            "min_height": null,
            "padding": null,
            "grid_auto_rows": null,
            "grid_gap": null,
            "max_width": null,
            "order": null,
            "_view_module_version": "1.2.0",
            "grid_template_areas": null,
            "object_position": null,
            "object_fit": null,
            "grid_auto_columns": null,
            "margin": null,
            "display": null,
            "left": null
          }
        },
        "4dc912bbee794f10848607bd2323991d": {
          "model_module": "@jupyter-widgets/controls",
          "model_name": "HTMLModel",
          "state": {
            "_view_name": "HTMLView",
            "style": "IPY_MODEL_80ef52e48611452d9a4d2fa52b48e2a0",
            "_dom_classes": [],
            "description": "",
            "_model_name": "HTMLModel",
            "placeholder": "​",
            "_view_module": "@jupyter-widgets/controls",
            "_model_module_version": "1.5.0",
            "value": "Creating animation: 100",
            "_view_count": null,
            "_view_module_version": "1.5.0",
            "description_tooltip": null,
            "_model_module": "@jupyter-widgets/controls",
            "layout": "IPY_MODEL_a9c38216300c4b3a8cb69868bc6b4f58"
          }
        },
        "317f56a9fb2746139f2bb6f8a8a5e2b8": {
          "model_module": "@jupyter-widgets/controls",
          "model_name": "IntProgressModel",
          "state": {
            "_view_name": "ProgressView",
            "style": "IPY_MODEL_3354deb1aee14fc4836f8a5bdc98f25a",
            "_dom_classes": [],
            "description": "",
            "_model_name": "IntProgressModel",
            "bar_style": "success",
            "max": 100,
            "_view_module": "@jupyter-widgets/controls",
            "_model_module_version": "1.5.0",
            "value": 100,
            "_view_count": null,
            "_view_module_version": "1.5.0",
            "orientation": "horizontal",
            "min": 0,
            "description_tooltip": null,
            "_model_module": "@jupyter-widgets/controls",
            "layout": "IPY_MODEL_2d63b16c16954f78b3f7547e32fb0983"
          }
        },
        "80ef52e48611452d9a4d2fa52b48e2a0": {
          "model_module": "@jupyter-widgets/controls",
          "model_name": "DescriptionStyleModel",
          "state": {
            "_view_name": "StyleView",
            "_model_name": "DescriptionStyleModel",
            "description_width": "",
            "_view_module": "@jupyter-widgets/base",
            "_model_module_version": "1.5.0",
            "_view_count": null,
            "_view_module_version": "1.2.0",
            "_model_module": "@jupyter-widgets/controls"
          }
        },
        "a9c38216300c4b3a8cb69868bc6b4f58": {
          "model_module": "@jupyter-widgets/base",
          "model_name": "LayoutModel",
          "state": {
            "_view_name": "LayoutView",
            "grid_template_rows": null,
            "right": null,
            "justify_content": null,
            "_view_module": "@jupyter-widgets/base",
            "overflow": null,
            "_model_module_version": "1.2.0",
            "_view_count": null,
            "flex_flow": null,
            "width": null,
            "min_width": null,
            "border": null,
            "align_items": null,
            "bottom": null,
            "_model_module": "@jupyter-widgets/base",
            "top": null,
            "grid_column": null,
            "overflow_y": null,
            "overflow_x": null,
            "grid_auto_flow": null,
            "grid_area": null,
            "grid_template_columns": null,
            "flex": null,
            "_model_name": "LayoutModel",
            "justify_items": null,
            "grid_row": null,
            "max_height": null,
            "align_content": null,
            "visibility": null,
            "align_self": null,
            "height": null,
            "min_height": null,
            "padding": null,
            "grid_auto_rows": null,
            "grid_gap": null,
            "max_width": null,
            "order": null,
            "_view_module_version": "1.2.0",
            "grid_template_areas": null,
            "object_position": null,
            "object_fit": null,
            "grid_auto_columns": null,
            "margin": null,
            "display": null,
            "left": null
          }
        },
        "3354deb1aee14fc4836f8a5bdc98f25a": {
          "model_module": "@jupyter-widgets/controls",
          "model_name": "ProgressStyleModel",
          "state": {
            "_view_name": "StyleView",
            "_model_name": "ProgressStyleModel",
            "description_width": "",
            "_view_module": "@jupyter-widgets/base",
            "_model_module_version": "1.5.0",
            "_view_count": null,
            "_view_module_version": "1.2.0",
            "bar_color": null,
            "_model_module": "@jupyter-widgets/controls"
          }
        },
        "2d63b16c16954f78b3f7547e32fb0983": {
          "model_module": "@jupyter-widgets/base",
          "model_name": "LayoutModel",
          "state": {
            "_view_name": "LayoutView",
            "grid_template_rows": null,
            "right": null,
            "justify_content": null,
            "_view_module": "@jupyter-widgets/base",
            "overflow": null,
            "_model_module_version": "1.2.0",
            "_view_count": null,
            "flex_flow": null,
            "width": null,
            "min_width": null,
            "border": null,
            "align_items": null,
            "bottom": null,
            "_model_module": "@jupyter-widgets/base",
            "top": null,
            "grid_column": null,
            "overflow_y": null,
            "overflow_x": null,
            "grid_auto_flow": null,
            "grid_area": null,
            "grid_template_columns": null,
            "flex": null,
            "_model_name": "LayoutModel",
            "justify_items": null,
            "grid_row": null,
            "max_height": null,
            "align_content": null,
            "visibility": null,
            "align_self": null,
            "height": null,
            "min_height": null,
            "padding": null,
            "grid_auto_rows": null,
            "grid_gap": null,
            "max_width": null,
            "order": null,
            "_view_module_version": "1.2.0",
            "grid_template_areas": null,
            "object_position": null,
            "object_fit": null,
            "grid_auto_columns": null,
            "margin": null,
            "display": null,
            "left": null
          }
        }
      }
    }
  },
  "cells": [
    {
      "cell_type": "markdown",
      "metadata": {
        "id": "view-in-github",
        "colab_type": "text"
      },
      "source": [
        "<a href=\"https://colab.research.google.com/github/boytjj/taojingjun/blob/master/Shared_GanSpace_Exploration_Script.ipynb\" target=\"_parent\"><img src=\"https://colab.research.google.com/assets/colab-badge.svg\" alt=\"Open In Colab\"/></a>"
      ]
    },
    {
      "cell_type": "markdown",
      "metadata": {
        "id": "XB6DIQ2zQZ9c"
      },
      "source": [
        "**Script adopted from Derrich (Artificial Images YouTube Channel)**\n"
      ]
    },
    {
      "cell_type": "code",
      "metadata": {
        "id": "9ooIEgn-EktR",
        "colab": {
          "base_uri": "https://localhost:8080/"
        },
        "outputId": "6be95851-4b76-42e8-a4a6-9ae176cfb786"
      },
      "source": [
        "%tensorflow_version 1.x"
      ],
      "execution_count": null,
      "outputs": [
        {
          "output_type": "stream",
          "text": [
            "TensorFlow 1.x selected.\n"
          ],
          "name": "stdout"
        }
      ]
    },
    {
      "cell_type": "code",
      "metadata": {
        "id": "N-1IC6H4F6cF",
        "colab": {
          "base_uri": "https://localhost:8080/",
          "height": 35
        },
        "outputId": "d7c942b9-b38f-4aeb-fd6f-c803980751a4"
      },
      "source": [
        "# title Mount Google Drive\n",
        "from google.colab import drive\n",
        "drive.mount('/content/drive/', force_remount=True)"
      ],
      "execution_count": null,
      "outputs": [
        {
          "output_type": "stream",
          "text": [
            "Mounted at /content/drive/\n"
          ],
          "name": "stdout"
        }
      ]
    },
    {
      "cell_type": "code",
      "metadata": {
        "id": "MOMrYihOiEAN",
        "colab": {
          "base_uri": "https://localhost:8080/"
        },
        "outputId": "6ee9204c-81c6-4689-9084-8106de5804e8"
      },
      "source": [
        "%mkdir /content/styleganiitb\n",
        "%cd /content/styleganiitb"
      ],
      "execution_count": null,
      "outputs": [
        {
          "output_type": "stream",
          "text": [
            "mkdir: cannot create directory ‘/content/styleganiitb’: File exists\n",
            "/content/styleganiitb\n"
          ],
          "name": "stdout"
        }
      ]
    },
    {
      "cell_type": "code",
      "metadata": {
        "id": "fUzvVkjUmWuY",
        "colab": {
          "base_uri": "https://localhost:8080/",
          "height": 141
        },
        "outputId": "f431c180-dbe1-451c-ecae-f2dfba782ded"
      },
      "source": [
        "!git clone https://github.com/skyflynil/stylegan2\n"
      ],
      "execution_count": null,
      "outputs": [
        {
          "output_type": "stream",
          "text": [
            "/content/drive/My Drive/styleganiitb\n",
            "Cloning into 'stylegan2'...\n",
            "remote: Enumerating objects: 219, done.\u001b[K\n",
            "remote: Total 219 (delta 0), reused 0 (delta 0), pack-reused 219\u001b[K\n",
            "Receiving objects: 100% (219/219), 2.29 MiB | 4.03 MiB/s, done.\n",
            "Resolving deltas: 100% (120/120), done.\n",
            "/content/drive/My Drive/styleganiitb\n"
          ],
          "name": "stdout"
        }
      ]
    },
    {
      "cell_type": "markdown",
      "metadata": {
        "id": "BcSivODFhlxT"
      },
      "source": [
        "**Change path_to_model and path_to_components to shared files**"
      ]
    },
    {
      "cell_type": "code",
      "metadata": {
        "id": "L7YZHqJ_F8rE"
      },
      "source": [
        "path_to_tf_stylegan = '/content/stylegan2'\n",
        "path_to_model = '/content/drive/MyDrive/network-snapshot-010162.pkl'\n",
        "path_to_components = '/content/drive/MyDrive/stylegan2-mmfloorplan_style_ipca_c20_n1000000_w.npz'\n",
        "named_directions = {} #init named_directions dict to save directions"
      ],
      "execution_count": 119,
      "outputs": []
    },
    {
      "cell_type": "code",
      "metadata": {
        "id": "hB2KeSFwGFlx",
        "colab": {
          "base_uri": "https://localhost:8080/"
        },
        "outputId": "4d402b92-3f88-42fa-dac1-25063f508486"
      },
      "source": [
        "#@title Load model { display-mode: \"both\" }\n",
        "\n",
        "#@markdown This code loads the tensorflow version of StyleGAN2\n",
        "%cd $path_to_tf_stylegan\n",
        "import tensorflow as tf\n",
        "import ipywidgets as widgets\n",
        "import pretrained_networks\n",
        "import PIL.Image\n",
        "import numpy as np\n",
        "import argparse\n",
        "import numpy as np\n",
        "import PIL.Image\n",
        "import dnnlib\n",
        "import dnnlib.tflib as tflib\n",
        "import re\n",
        "import sys\n",
        "from io import BytesIO\n",
        "import IPython.display\n",
        "import numpy as np\n",
        "from math import ceil\n",
        "from PIL import Image, ImageDraw\n",
        "import imageio\n",
        "import pretrained_networks\n",
        "\n",
        "src_model = path_to_model\n",
        "\n",
        "_G, _D, Gs = pretrained_networks.load_networks(src_model)\n",
        "Gs_syn_kwargs = dnnlib.EasyDict()\n",
        "batch_size = 1\n",
        "Gs_syn_kwargs.output_transform = dict(func=tflib.convert_images_to_uint8, nchw_to_nhwc=True)\n",
        "Gs_syn_kwargs.randomize_noise = True\n",
        "Gs_syn_kwargs.minibatch_size = batch_size\n",
        "\n",
        "noise_vars = [var for name, var in Gs.components.synthesis.vars.items() if name.startswith('noise')]"
      ],
      "execution_count": 120,
      "outputs": [
        {
          "output_type": "stream",
          "text": [
            "/content/stylegan2\n"
          ],
          "name": "stdout"
        }
      ]
    },
    {
      "cell_type": "code",
      "metadata": {
        "id": "fvoFmf6kGLpG",
        "colab": {
          "base_uri": "https://localhost:8080/"
        },
        "outputId": "38a23bb4-1115-4ecf-9ccd-40a2dd2c9b97"
      },
      "source": [
        "component_value = 9\n",
        "#component_value = 'random'\n",
        "\n",
        "comps = np.load(path_to_components)\n",
        "lst = comps.files\n",
        "latent_dirs = []\n",
        "latent_stdevs = []\n",
        "\n",
        "load_activations = True\n",
        "\n",
        "for item in lst:\n",
        "    # loading latent directions\n",
        "    # TODO: what is the difference btwn act_comp and latent_comp? should I use one, the other or both?\n",
        "\n",
        "    # print('\\n')\n",
        "    # print('--------'*10)\n",
        "    # print(item)\n",
        "    if load_activations:\n",
        "      if item == 'act_comp':\n",
        "        # print(comps[item].shape[0])\n",
        "        for i in range(comps[item].shape[0]):\n",
        "          # print(comps[item][i].shape)\n",
        "          latent_dirs.append(comps[item][i])\n",
        "      if item == 'act_stdev':\n",
        "        # print()\n",
        "        for i in range(comps[item].shape[0]):\n",
        "          latent_stdevs.append(comps[item][i])\n",
        "    else:\n",
        "      if item == 'lat_comp':\n",
        "        # print(comps[item].shape[0])\n",
        "        for i in range(comps[item].shape[0]):\n",
        "          # print(comps[item][i].shape)\n",
        "          latent_dirs.append(comps[item][i])\n",
        "      if item == 'lat_stdev':\n",
        "        # print()\n",
        "        for i in range(comps[item].shape[0]):\n",
        "          latent_stdevs.append(comps[item][i])\n",
        "        \n",
        "    # print('--------'*10)\n",
        "    # print('\\n')\n",
        "    \n",
        "\n",
        "#load one at random \n",
        "if component_value == 'random':\n",
        "  num = np.random.randint(num_components)\n",
        "else:\n",
        "  num = component_value\n",
        "\n",
        "if num in named_directions.values():\n",
        "  print(f'Direction already named: {list(named_directions.keys())[list(named_directions.values()).index(num)]}')\n",
        "\n",
        "random_dir = latent_dirs[num]\n",
        "random_dir_stdev = latent_dirs[num]\n",
        "\n",
        "random_dir = np.expand_dims(random_dir, axis=0)\n",
        "#TODO: I think currently this will only work for 1024x1024 models? make this adjustable but idk the rule\n",
        "# for 512 x 512 models it's 16, 1024 x 1024 = 18\n",
        "n = 18\n",
        "if Gs.input_shape[1:][0] == 512:\n",
        "  n = 18\n",
        "random_dir = np.tile(random_dir, [1, n, 1]) \n",
        "\n",
        "print(f'Loaded Component No. {num}')\n"
      ],
      "execution_count": 121,
      "outputs": [
        {
          "output_type": "stream",
          "text": [
            "Loaded Component No. 9\n"
          ],
          "name": "stdout"
        }
      ]
    },
    {
      "cell_type": "markdown",
      "metadata": {
        "id": "fBPcj35YNpX1"
      },
      "source": [
        "Define a name in Name component box and use in next code block as direction name\n"
      ]
    },
    {
      "cell_type": "code",
      "metadata": {
        "id": "nvY155DGGPrG",
        "cellView": "form",
        "colab": {
          "base_uri": "https://localhost:8080/",
          "height": 450,
          "referenced_widgets": [
            "20f7fcee62d44367a7c7b7ddd6ef2227",
            "5db6d1bf4a624fad8ca1219ed5eacc25",
            "72c60b8a60fe4d038a672fe881de437e",
            "6a68407d8adf4462a744452de24bdbfc",
            "a506bc50085e464da9253db22a5fc1a8",
            "fc8ff0fa9a6b4e82a04d8e7119bf74e5",
            "98e941c0242f47cfb51abe7961580bc8",
            "1473977fd2134585944f7743de5959c0",
            "b9b8cd03c8b7450eaf8e07b845bf34ee",
            "abfa4f9e503d47e1a5997da5ece21513",
            "cdd4be859bc84bd5b702d1368d369abd",
            "1807ae90339a45e9a47df58f41f55b61",
            "8c34c9221fcf4429a831d5411550e278",
            "8e5128a7c64847ad8b3c51629ec3df92",
            "70cf1a3a31de4507be6e1a9f09612f50",
            "99ab15f8af6d4f15876e746d21792a96",
            "ba3384f6685941fda1d14a0ab0d1b2f4",
            "672a4bce61384454a83afce47f3735fe",
            "ab4bed0514924dfe819d4f039af5dc21",
            "6b48fa1a2b994fe4981719328611e704",
            "05623127b11b43a6b9084e8b295d2c73"
          ]
        },
        "outputId": "4d8073bd-b175-47d7-f6c1-f8a6c8e220ba"
      },
      "source": [
        "#@title Run UI\n",
        "from IPython.utils import io\n",
        "\n",
        "def name_direction(sender):\n",
        "  if num in named_directions.values():\n",
        "    target_key = list(named_directions.keys())[list(named_directions.values()).index(num)]\n",
        "    print(f'Direction already named: {target_key}')\n",
        "    print(f'Overwriting... ')\n",
        "    del(named_directions[target_key])\n",
        "  named_directions[text.value] = num\n",
        "  save_direction(random_dir, text.value)\n",
        "  for item in named_directions:\n",
        "    print(item, named_directions[item])\n",
        "\n",
        "def save_direction(direction, filename):\n",
        "  filename += \".npy\"\n",
        "  np.save(filename, direction, allow_pickle=True, fix_imports=True)\n",
        "  print(f'Latent direction saved as {filename}')\n",
        "\n",
        "# Taken from https://github.com/alexanderkuk/log-progress\n",
        "def log_progress(sequence, every=1, size=None, name='Items'):\n",
        "    from ipywidgets import IntProgress, HTML, VBox\n",
        "    from IPython.display import display\n",
        "\n",
        "    is_iterator = False\n",
        "    if size is None:\n",
        "        try:\n",
        "            size = len(sequence)\n",
        "        except TypeError:\n",
        "            is_iterator = True\n",
        "    if size is not None:\n",
        "        if every is None:\n",
        "            if size <= 200:\n",
        "                every = 1\n",
        "            else:\n",
        "                every = int(size / 200)     # every 0.5%\n",
        "    else:\n",
        "        assert every is not None, 'sequence is iterator, set every'\n",
        "\n",
        "    if is_iterator:\n",
        "        progress = IntProgress(min=0, max=1, value=1)\n",
        "        progress.bar_style = 'info'\n",
        "    else:\n",
        "        progress = IntProgress(min=0, max=size, value=0)\n",
        "    label = HTML()\n",
        "    box = VBox(children=[label, progress])\n",
        "    display(box)\n",
        "\n",
        "    index = 0\n",
        "    try:\n",
        "        for index, record in enumerate(sequence, 1):\n",
        "            if index == 1 or index % every == 0:\n",
        "                if is_iterator:\n",
        "                    label.value = '{name}: {index} / ?'.format(\n",
        "                        name=name,\n",
        "                        index=index\n",
        "                    )\n",
        "                else:\n",
        "                    progress.value = index\n",
        "                    label.value = u'{name}: {index} / {size}'.format(\n",
        "                        name=name,\n",
        "                        index=index,\n",
        "                        size=size\n",
        "                    )\n",
        "            yield record\n",
        "    except:\n",
        "        progress.bar_style = 'danger'\n",
        "        raise\n",
        "    else:\n",
        "        progress.bar_style = 'success'\n",
        "        progress.value = index\n",
        "        label.value = \"{name}: {index}\".format(\n",
        "            name=name,\n",
        "            index=str(index or '?')\n",
        "        )\n",
        "\n",
        "def generate_mov(seed, truncation, direction_vec, scale, n_frames, out_name = 'out', noise_spec = None, loop=True):\n",
        "  \"\"\"Generates a mov moving back and forth along the chosen direction vector\"\"\"\n",
        "  # Example of reading a generated set of images, and storing as MP4.\n",
        "  %mkdir out\n",
        "  movieName = f'out/{out_name}.mp4'\n",
        "  offset = -10\n",
        "  step = 20 / n_frames\n",
        "  imgs = []\n",
        "  for i in range(n_frames):\n",
        "    print(f'{i} / {n_frames}')\n",
        "    Gs_kwargs = dnnlib.EasyDict()\n",
        "    Gs_kwargs.output_transform = dict(func=tflib.convert_images_to_uint8, nchw_to_nhwc=True)\n",
        "    Gs_kwargs.randomize_noise = False\n",
        "    if truncation is not None:\n",
        "        Gs_kwargs.truncation_psi = truncation\n",
        "            \n",
        "    rnd = np.random.RandomState(seed)\n",
        "        \n",
        "    if noise_spec is None:\n",
        "      tflib.set_vars({var: rnd.randn(*var.shape.as_list()) for var in noise_vars}) # [height, width]\n",
        "    else:\n",
        "      tflib.set_vars(noise_spec)\n",
        "    \n",
        "    batch_size = 1\n",
        "    all_seeds = [seed] * batch_size\n",
        "    all_z = np.stack([np.random.RandomState(seed).randn(*Gs.input_shape[1:]) for seed in all_seeds]) # [minibatch, component]\n",
        "    all_w = Gs.components.mapping.run(all_z, None) # [minibatch, layer, component]\n",
        "    if truncation != 1:\n",
        "        w_avg = Gs.get_var('dlatent_avg')\n",
        "        all_w = w_avg + (all_w - w_avg) * truncation # [minibatch, layer, component]\n",
        "    all_w += direction_vec * offset * scale\n",
        "    all_images = Gs.components.synthesis.run(all_w, **Gs_syn_kwargs)\n",
        "    #save image and display\n",
        "    final_im = PIL.Image.fromarray(np.median(all_images, axis=0).astype(np.uint8))\n",
        "    imgs.append(final_im)\n",
        "    #increase offset\n",
        "    offset += step\n",
        "  if loop:\n",
        "    imgs += imgs[::-1]\n",
        "  with imageio.get_writer(movieName, mode='I') as writer:\n",
        "    for image in log_progress(list(imgs), name = \"Creating animation\"):\n",
        "        writer.append_data(np.array(image))\n",
        "\n",
        "def display_sample(seed, truncation, distance, scale, disp=True, save=None, noise_spec=None):\n",
        "    # blockPrint()\n",
        "    with io.capture_output() as captured:\n",
        "      # weighted_average(Gs, Gsd, blending)\n",
        "      \n",
        "      Gs_kwargs = dnnlib.EasyDict()\n",
        "      Gs_kwargs.output_transform = dict(func=tflib.convert_images_to_uint8, nchw_to_nhwc=True)\n",
        "      Gs_kwargs.randomize_noise = False\n",
        "      if truncation is not None:\n",
        "          Gs_kwargs.truncation_psi = truncation\n",
        "          \n",
        "      rnd = np.random.RandomState(seed)\n",
        "      \n",
        "      if noise_spec is None:\n",
        "        tflib.set_vars({var: rnd.randn(*var.shape.as_list()) for var in noise_vars}) # [height, width]\n",
        "      else:\n",
        "        tflib.set_vars(noise_spec)\n",
        "      \n",
        "      batch_size = 1\n",
        "      all_seeds = [seed] * batch_size\n",
        "      all_z = np.stack([np.random.RandomState(seed).randn(*Gs.input_shape[1:]) for seed in all_seeds]) # [minibatch, component]\n",
        "      all_w = Gs.components.mapping.run(all_z, None) # [minibatch, layer, component]\n",
        "      if truncation != 1:\n",
        "          w_avg = Gs.get_var('dlatent_avg')\n",
        "          all_w = w_avg + (all_w - w_avg) * truncation # [minibatch, layer, component]\n",
        "      print(random_dir)\n",
        "      print(distance)\n",
        "      print(scale)\n",
        "      all_w += random_dir * distance * scale\n",
        "      all_images = Gs.components.synthesis.run(all_w, **Gs_syn_kwargs)\n",
        "      #save image and display\n",
        "      final_im = PIL.Image.fromarray(np.median(all_images, axis=0).astype(np.uint8)).resize((400,400),Image.LANCZOS)\n",
        "    if disp:\n",
        "      # print('no display')\n",
        "      display(final_im)\n",
        "    if save is not None:\n",
        "      if disp == False:\n",
        "        print(save)\n",
        "      final_im.save(f'out/{seed}_{save:05}.png')\n",
        "\n",
        "seed = np.random.randint(0,100000)\n",
        "style = {'description_width': 'initial'}\n",
        "\n",
        "seed = widgets.IntSlider(min=0, max=100000, step=1, value=seed, description='Seed: ', continuous_update=False)\n",
        "truncation = widgets.FloatSlider(min=0, max=2, step=0.1, value=0.7, description='Truncation: ', continuous_update=False)\n",
        "distance = widgets.FloatSlider(min=-10, max=10, step=0.1, value=0, description='Distance: ', continuous_update=False, style=style)\n",
        "scale = widgets.FloatSlider(min=0, max=5, step=0.05, value=1, description='Scale: ', continuous_update=False)\n",
        "text = widgets.Text(description=\"Name component here\", style=style, width=200)\n",
        "\n",
        "bot_box = widgets.HBox([seed, truncation, distance, scale, text])\n",
        "ui = widgets.VBox([bot_box])\n",
        "\n",
        "out = widgets.interactive_output(display_sample, {'seed': seed, 'truncation': truncation, 'distance': distance, 'scale': scale})\n",
        "\n",
        "display(ui, out)\n",
        "text.on_submit(name_direction)\n",
        "\n",
        "\n"
      ],
      "execution_count": 123,
      "outputs": [
        {
          "output_type": "display_data",
          "data": {
            "application/vnd.jupyter.widget-view+json": {
              "model_id": "20f7fcee62d44367a7c7b7ddd6ef2227",
              "version_minor": 0,
              "version_major": 2
            },
            "text/plain": [
              "VBox(children=(HBox(children=(IntSlider(value=18370, continuous_update=False, description='Seed: ', max=100000…"
            ]
          },
          "metadata": {
            "tags": []
          }
        },
        {
          "output_type": "display_data",
          "data": {
            "application/vnd.jupyter.widget-view+json": {
              "model_id": "6b48fa1a2b994fe4981719328611e704",
              "version_minor": 0,
              "version_major": 2
            },
            "text/plain": [
              "Output()"
            ]
          },
          "metadata": {
            "tags": []
          }
        }
      ]
    },
    {
      "cell_type": "code",
      "metadata": {
        "id": "g42ZRMOkGTrO",
        "colab": {
          "base_uri": "https://localhost:8080/",
          "height": 988,
          "referenced_widgets": [
            "84646295a6a040cd935bd95bc8750da4",
            "d2dd3b8dc5214e9986d37e489369c989",
            "4dc912bbee794f10848607bd2323991d",
            "317f56a9fb2746139f2bb6f8a8a5e2b8",
            "80ef52e48611452d9a4d2fa52b48e2a0",
            "a9c38216300c4b3a8cb69868bc6b4f58",
            "3354deb1aee14fc4836f8a5bdc98f25a",
            "2d63b16c16954f78b3f7547e32fb0983"
          ]
        },
        "outputId": "cc9bbc38-2ee5-47e1-a21a-b855f42f0d5e"
      },
      "source": [
        "#script to generate a movie moving back and forth along the direction\n",
        "\n",
        "direction_name = 'com9'\n",
        "loc = named_directions[direction_name]\n",
        "num_samples = 1\n",
        "#num_samples = 20\n",
        "\n",
        "for i in range(num_samples):\n",
        "  #s = np.random.randint(0, 10000)\n",
        "  s = 2\n",
        "  generate_mov(seed = s, truncation = 0.8, direction_vec = latent_dirs[loc], scale = 1, n_frames = 50, out_name = f'{direction_name}_{i}', loop=True)"
      ],
      "execution_count": null,
      "outputs": [
        {
          "output_type": "stream",
          "text": [
            "mkdir: cannot create directory ‘out’: File exists\n",
            "0 / 50\n",
            "1 / 50\n",
            "2 / 50\n",
            "3 / 50\n",
            "4 / 50\n",
            "5 / 50\n",
            "6 / 50\n",
            "7 / 50\n",
            "8 / 50\n",
            "9 / 50\n",
            "10 / 50\n",
            "11 / 50\n",
            "12 / 50\n",
            "13 / 50\n",
            "14 / 50\n",
            "15 / 50\n",
            "16 / 50\n",
            "17 / 50\n",
            "18 / 50\n",
            "19 / 50\n",
            "20 / 50\n",
            "21 / 50\n",
            "22 / 50\n",
            "23 / 50\n",
            "24 / 50\n",
            "25 / 50\n",
            "26 / 50\n",
            "27 / 50\n",
            "28 / 50\n",
            "29 / 50\n",
            "30 / 50\n",
            "31 / 50\n",
            "32 / 50\n",
            "33 / 50\n",
            "34 / 50\n",
            "35 / 50\n",
            "36 / 50\n",
            "37 / 50\n",
            "38 / 50\n",
            "39 / 50\n",
            "40 / 50\n",
            "41 / 50\n",
            "42 / 50\n",
            "43 / 50\n",
            "44 / 50\n",
            "45 / 50\n",
            "46 / 50\n",
            "47 / 50\n",
            "48 / 50\n",
            "49 / 50\n"
          ],
          "name": "stdout"
        },
        {
          "output_type": "display_data",
          "data": {
            "application/vnd.jupyter.widget-view+json": {
              "model_id": "84646295a6a040cd935bd95bc8750da4",
              "version_minor": 0,
              "version_major": 2
            },
            "text/plain": [
              "VBox(children=(HTML(value=''), IntProgress(value=0)))"
            ]
          },
          "metadata": {
            "tags": []
          }
        }
      ]
    },
    {
      "cell_type": "code",
      "metadata": {
        "id": "7aW7Pg5y3_c6"
      },
      "source": [
        ""
      ],
      "execution_count": null,
      "outputs": []
    },
    {
      "cell_type": "markdown",
      "metadata": {
        "id": "5zUTuW5M4ZW5"
      },
      "source": [
        "Extra\n"
      ]
    }
  ]
}